{
  "nbformat": 4,
  "nbformat_minor": 0,
  "metadata": {
    "colab": {
      "name": "JAGAUR-MINER-2.ipynb",
      "provenance": []
    },
    "kernelspec": {
      "name": "python3",
      "display_name": "Python 3"
    },
    "language_info": {
      "name": "python"
    },
    "accelerator": "GPU"
  },
  "cells": [
    {
      "cell_type": "code",
      "execution_count": 1,
      "metadata": {
        "cellView": "form",
        "id": "22l35Ab-Z2D6",
        "colab": {
          "base_uri": "https://localhost:8080/"
        },
        "outputId": "29c7b037-504e-4eda-dd08-72567b055f96"
      },
      "outputs": [
        {
          "output_type": "execute_result",
          "data": {
            "text/plain": [
              "['GPU 0: Tesla T4 (UUID: GPU-1a9416f6-e7b6-88f5-ffe4-ce299a40fd49)']"
            ]
          },
          "metadata": {},
          "execution_count": 1
        }
      ],
      "source": [
        "#@title **CHECK** **GPU**🤑\n",
        "!!nvidia-smi -L"
      ]
    },
    {
      "cell_type": "code",
      "source": [
        "#@title ***TmaTe SSH*** ⚒️\n",
        "!pkill -9 tmate\n",
        "!wget -nc https://github.com/tmate-io/tmate/releases/download/2.4.0/tmate-2.4.0-static-linux-i386.tar.xz &> /dev/null\n",
        "!tar --skip-old-files -xvf tmate-2.4.0-static-linux-i386.tar.xz &> /dev/null\n",
        "!rm -f nohup.out; bash -ic 'nohup ./tmate-2.4.0-static-linux-i386/tmate -S /tmp/tmate.sock new-session -d & disown -a' >/dev/null 2>&1\n",
        "!./tmate-2.4.0-static-linux-i386/tmate -S /tmp/tmate.sock wait tmate-ready\n",
        "!./tmate-2.4.0-static-linux-i386/tmate -S /tmp/tmate.sock display -p \"Connect with SSH address: #{tmate_ssh}\"\n",
        "!./tmate-2.4.0-static-linux-i386/tmate -S /tmp/tmate.sock display -p \"Connect with web: #{tmate_web}\""
      ],
      "metadata": {
        "cellView": "form",
        "id": "3WykIN7iaR2V",
        "colab": {
          "base_uri": "https://localhost:8080/"
        },
        "outputId": "9eb9e73d-b4ab-4e60-dc86-edb80cd54f32"
      },
      "execution_count": 2,
      "outputs": [
        {
          "output_type": "stream",
          "name": "stdout",
          "text": [
            "Connect with SSH address: ssh e4dmZDKLaZ9qRw7BXVSTKN4EZ@nyc1.tmate.io\n",
            "Connect with web: https://tmate.io/t/e4dmZDKLaZ9qRw7BXVSTKN4EZ\n"
          ]
        }
      ]
    },
    {
      "cell_type": "code",
      "source": [
        "#@title **SLEEPING** 😴\n",
        "!sleep 9999999999999"
      ],
      "metadata": {
        "cellView": "form",
        "id": "4G4jIKl7cNGe"
      },
      "execution_count": null,
      "outputs": []
    }
  ]
}